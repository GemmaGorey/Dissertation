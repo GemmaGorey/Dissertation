{
  "nbformat": 4,
  "nbformat_minor": 0,
  "metadata": {
    "colab": {
      "provenance": [],
      "gpuType": "T4",
      "authorship_tag": "ABX9TyNI8OySm0W1qnDbpPwoeUPL",
      "include_colab_link": true
    },
    "kernelspec": {
      "name": "python3",
      "display_name": "Python 3"
    },
    "language_info": {
      "name": "python"
    },
    "accelerator": "GPU"
  },
  "cells": [
    {
      "cell_type": "markdown",
      "metadata": {
        "id": "view-in-github",
        "colab_type": "text"
      },
      "source": [
        "<a href=\"https://colab.research.google.com/github/GemmaGorey/Dissertation/blob/main/notebooks/Dissertation_GG.ipynb\" target=\"_parent\"><img src=\"https://colab.research.google.com/assets/colab-badge.svg\" alt=\"Open In Colab\"/></a>"
      ]
    },
    {
      "cell_type": "markdown",
      "source": [
        "**Initial Colab setup below - Run once only per session**\n"
      ],
      "metadata": {
        "id": "71xmFnae_UIi"
      }
    },
    {
      "cell_type": "code",
      "source": [
        "# Environment Setup - run once per session then run all below\n",
        "\n",
        "# Clone my github\n",
        "!git clone https://github.com/GemmaGorey/Dissertation.git\n",
        "\n",
        "# Install librabries\n",
        "print(\"Installing required library versions...\")\n",
        "# Downgrade spaCy and NumPy to be compatible with PyTorch 2.2.2 and its dependencies as conficts with colab\n",
        "!pip install \"spacy<3.8\" \"numpy<2\" -q\n",
        "!pip install wandb -q\n",
        "\n",
        "# Install PyTorch, torchvision, torchaudio, and librosa\n",
        "!pip install torch==2.2.2 torchvision==0.17.2 torchaudio==2.2.2 --index-url https://download.pytorch.org/whl/cu121 -q\n",
        "!pip install librosa -q\n",
        "print(\"Installation complete.\")\n",
        "\n",
        "# verify GPU and restart trigger\n",
        "import torch\n",
        "import os\n",
        "\n",
        "if not torch.cuda.is_available():\n",
        "    print(\"WARNING: GPU IS NOT AVAILABLE. Please go to Runtime > Change runtime type and select T4 GPU.\")\n",
        "else:\n",
        "    print(\"\\n GPU is available. Runtime will now restart to load correct library versions.\")\n",
        "    print(\" After restarting, you can run the rest of your notebook cells.\")\n",
        "    # Colab runtime restart.\n",
        "    os.kill(os.getpid(), 9)"
      ],
      "metadata": {
        "colab": {
          "base_uri": "https://localhost:8080/"
        },
        "id": "xKTq_n_S8czf",
        "outputId": "b95cb73a-4252-46e1-cbdb-6e1db01f32db"
      },
      "execution_count": null,
      "outputs": [
        {
          "output_type": "stream",
          "name": "stdout",
          "text": [
            "fatal: destination path 'Dissertation' already exists and is not an empty directory.\n",
            "Installing required library versions...\n",
            "Installation complete.\n"
          ]
        }
      ]
    },
    {
      "cell_type": "markdown",
      "source": [
        "**Below is the rest of the script**\n",
        "\n",
        "Start once reconnected (tick on top RHS)\n"
      ],
      "metadata": {
        "id": "N-p9PP5E_Sta"
      }
    },
    {
      "cell_type": "code",
      "source": [
        "#imports and setting up of w&b\n",
        "\n",
        "import time\n",
        "import torch\n",
        "import torch.nn as nn\n",
        "import wandb\n",
        "\n",
        "# 1. Initialize a new W&B run.\n",
        "# The *first time* you run this in a new environment, it will prompt\n",
        "# you to enter your API key. It handles the login automatically.\n",
        "run = wandb.init(\n",
        "    # Set your entity (your team/username) from the W&B page\n",
        "    entity=\"gemwrigley-university-of-bath\",\n",
        "\n",
        "    # Set the project name\n",
        "    project=\"dissertation-mer\",\n",
        "\n",
        "    # Track hyperparameters and other configuration details\n",
        "    config={\n",
        "        \"learning_rate\": 0.001,\n",
        "        \"architecture\": \"SimpleCNN\",\n",
        "        \"dataset\": \"DummyData\",\n",
        "        \"epochs\": 10,\n",
        "    }\n",
        ")\n",
        "\n",
        "# --- Run your training loop ---\n",
        "print(\"Starting training loop for 10 epochs...\")\n",
        "\n",
        "for epoch in range(10):\n",
        "    # --- Your training logic here ---\n",
        "    # ... (forward pass, loss calculation, etc.)\n",
        "    loss = 2**-epoch + 0.1 # Dummy loss value for demonstration\n",
        "\n",
        "    # 2. Log metrics to W&B using the 'run' object\n",
        "    run.log({\"loss\": loss})\n",
        "\n",
        "    print(f\"Epoch [{epoch+1}/10], Loss: {loss:.4f}\")\n",
        "\n",
        "# 3. Finish the W&B run after the loop\n",
        "run.finish()\n",
        "\n",
        "print(\"\\n--- Benchmark Complete ---\")"
      ],
      "metadata": {
        "colab": {
          "base_uri": "https://localhost:8080/",
          "height": 735
        },
        "id": "T9C4Mbhquwxi",
        "outputId": "40dfe04c-f2fc-453c-9f51-06d65276264a"
      },
      "execution_count": 3,
      "outputs": [
        {
          "output_type": "display_data",
          "data": {
            "text/plain": [
              "<IPython.core.display.Javascript object>"
            ],
            "application/javascript": [
              "\n",
              "        window._wandbApiKey = new Promise((resolve, reject) => {\n",
              "            function loadScript(url) {\n",
              "            return new Promise(function(resolve, reject) {\n",
              "                let newScript = document.createElement(\"script\");\n",
              "                newScript.onerror = reject;\n",
              "                newScript.onload = resolve;\n",
              "                document.body.appendChild(newScript);\n",
              "                newScript.src = url;\n",
              "            });\n",
              "            }\n",
              "            loadScript(\"https://cdn.jsdelivr.net/npm/postmate/build/postmate.min.js\").then(() => {\n",
              "            const iframe = document.createElement('iframe')\n",
              "            iframe.style.cssText = \"width:0;height:0;border:none\"\n",
              "            document.body.appendChild(iframe)\n",
              "            const handshake = new Postmate({\n",
              "                container: iframe,\n",
              "                url: 'https://wandb.ai/authorize'\n",
              "            });\n",
              "            const timeout = setTimeout(() => reject(\"Couldn't auto authenticate\"), 5000)\n",
              "            handshake.then(function(child) {\n",
              "                child.on('authorize', data => {\n",
              "                    clearTimeout(timeout)\n",
              "                    resolve(data)\n",
              "                });\n",
              "            });\n",
              "            })\n",
              "        });\n",
              "    "
            ]
          },
          "metadata": {}
        },
        {
          "output_type": "stream",
          "name": "stderr",
          "text": [
            "\u001b[34m\u001b[1mwandb\u001b[0m: \u001b[33mWARNING\u001b[0m If you're specifying your api key in code, ensure this code is not shared publicly.\n",
            "\u001b[34m\u001b[1mwandb\u001b[0m: \u001b[33mWARNING\u001b[0m Consider setting the WANDB_API_KEY environment variable, or running `wandb login` from the command line.\n",
            "\u001b[34m\u001b[1mwandb\u001b[0m: No netrc file found, creating one.\n",
            "\u001b[34m\u001b[1mwandb\u001b[0m: Appending key for api.wandb.ai to your netrc file: /root/.netrc\n",
            "\u001b[34m\u001b[1mwandb\u001b[0m: Currently logged in as: \u001b[33mgemwrigley\u001b[0m (\u001b[33mgemwrigley-university-of-bath\u001b[0m) to \u001b[32mhttps://api.wandb.ai\u001b[0m. Use \u001b[1m`wandb login --relogin`\u001b[0m to force relogin\n"
          ]
        },
        {
          "output_type": "display_data",
          "data": {
            "text/plain": [
              "<IPython.core.display.HTML object>"
            ],
            "text/html": [
              "Tracking run with wandb version 0.19.11"
            ]
          },
          "metadata": {}
        },
        {
          "output_type": "display_data",
          "data": {
            "text/plain": [
              "<IPython.core.display.HTML object>"
            ],
            "text/html": [
              "Run data is saved locally in <code>/content/wandb/run-20250610_121928-lj4mi9h9</code>"
            ]
          },
          "metadata": {}
        },
        {
          "output_type": "display_data",
          "data": {
            "text/plain": [
              "<IPython.core.display.HTML object>"
            ],
            "text/html": [
              "Syncing run <strong><a href='https://wandb.ai/gemwrigley-university-of-bath/dissertation-mer/runs/lj4mi9h9' target=\"_blank\">misunderstood-valley-1</a></strong> to <a href='https://wandb.ai/gemwrigley-university-of-bath/dissertation-mer' target=\"_blank\">Weights & Biases</a> (<a href='https://wandb.me/developer-guide' target=\"_blank\">docs</a>)<br>"
            ]
          },
          "metadata": {}
        },
        {
          "output_type": "display_data",
          "data": {
            "text/plain": [
              "<IPython.core.display.HTML object>"
            ],
            "text/html": [
              " View project at <a href='https://wandb.ai/gemwrigley-university-of-bath/dissertation-mer' target=\"_blank\">https://wandb.ai/gemwrigley-university-of-bath/dissertation-mer</a>"
            ]
          },
          "metadata": {}
        },
        {
          "output_type": "display_data",
          "data": {
            "text/plain": [
              "<IPython.core.display.HTML object>"
            ],
            "text/html": [
              " View run at <a href='https://wandb.ai/gemwrigley-university-of-bath/dissertation-mer/runs/lj4mi9h9' target=\"_blank\">https://wandb.ai/gemwrigley-university-of-bath/dissertation-mer/runs/lj4mi9h9</a>"
            ]
          },
          "metadata": {}
        },
        {
          "output_type": "stream",
          "name": "stdout",
          "text": [
            "Starting training loop for 10 epochs...\n",
            "Epoch [1/10], Loss: 1.1000\n",
            "Epoch [2/10], Loss: 0.6000\n",
            "Epoch [3/10], Loss: 0.3500\n",
            "Epoch [4/10], Loss: 0.2250\n",
            "Epoch [5/10], Loss: 0.1625\n",
            "Epoch [6/10], Loss: 0.1313\n",
            "Epoch [7/10], Loss: 0.1156\n",
            "Epoch [8/10], Loss: 0.1078\n",
            "Epoch [9/10], Loss: 0.1039\n",
            "Epoch [10/10], Loss: 0.1020\n"
          ]
        },
        {
          "output_type": "display_data",
          "data": {
            "text/plain": [
              "<IPython.core.display.HTML object>"
            ],
            "text/html": []
          },
          "metadata": {}
        },
        {
          "output_type": "display_data",
          "data": {
            "text/plain": [
              "<IPython.core.display.HTML object>"
            ],
            "text/html": [
              "<br>    <style><br>        .wandb-row {<br>            display: flex;<br>            flex-direction: row;<br>            flex-wrap: wrap;<br>            justify-content: flex-start;<br>            width: 100%;<br>        }<br>        .wandb-col {<br>            display: flex;<br>            flex-direction: column;<br>            flex-basis: 100%;<br>            flex: 1;<br>            padding: 10px;<br>        }<br>    </style><br><div class=\"wandb-row\"><div class=\"wandb-col\"><h3>Run history:</h3><br/><table class=\"wandb\"><tr><td>loss</td><td>█▄▃▂▁▁▁▁▁▁</td></tr></table><br/></div><div class=\"wandb-col\"><h3>Run summary:</h3><br/><table class=\"wandb\"><tr><td>loss</td><td>0.10195</td></tr></table><br/></div></div>"
            ]
          },
          "metadata": {}
        },
        {
          "output_type": "display_data",
          "data": {
            "text/plain": [
              "<IPython.core.display.HTML object>"
            ],
            "text/html": [
              " View run <strong style=\"color:#cdcd00\">misunderstood-valley-1</strong> at: <a href='https://wandb.ai/gemwrigley-university-of-bath/dissertation-mer/runs/lj4mi9h9' target=\"_blank\">https://wandb.ai/gemwrigley-university-of-bath/dissertation-mer/runs/lj4mi9h9</a><br> View project at: <a href='https://wandb.ai/gemwrigley-university-of-bath/dissertation-mer' target=\"_blank\">https://wandb.ai/gemwrigley-university-of-bath/dissertation-mer</a><br>Synced 5 W&B file(s), 0 media file(s), 0 artifact file(s) and 0 other file(s)"
            ]
          },
          "metadata": {}
        },
        {
          "output_type": "display_data",
          "data": {
            "text/plain": [
              "<IPython.core.display.HTML object>"
            ],
            "text/html": [
              "Find logs at: <code>./wandb/run-20250610_121928-lj4mi9h9/logs</code>"
            ]
          },
          "metadata": {}
        },
        {
          "output_type": "stream",
          "name": "stdout",
          "text": [
            "\n",
            "--- Benchmark Complete ---\n"
          ]
        }
      ]
    }
  ]
}