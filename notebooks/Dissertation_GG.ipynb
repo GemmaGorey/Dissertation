{
  "nbformat": 4,
  "nbformat_minor": 0,
  "metadata": {
    "colab": {
      "provenance": [],
      "gpuType": "T4",
      "authorship_tag": "ABX9TyO/OaAs75DYrUGzYKDfMuCk",
      "include_colab_link": true
    },
    "kernelspec": {
      "name": "python3",
      "display_name": "Python 3"
    },
    "language_info": {
      "name": "python"
    },
    "accelerator": "GPU"
  },
  "cells": [
    {
      "cell_type": "markdown",
      "metadata": {
        "id": "view-in-github",
        "colab_type": "text"
      },
      "source": [
        "<a href=\"https://colab.research.google.com/github/GemmaGorey/Dissertation/blob/main/notebooks/Dissertation_GG.ipynb\" target=\"_parent\"><img src=\"https://colab.research.google.com/assets/colab-badge.svg\" alt=\"Open In Colab\"/></a>"
      ]
    },
    {
      "cell_type": "markdown",
      "source": [
        "**Initial Colab setup below - Run once only per session**\n"
      ],
      "metadata": {
        "id": "71xmFnae_UIi"
      }
    },
    {
      "cell_type": "code",
      "source": [
        "# Environment Setup - run once per session then run all below\n",
        "\n",
        "# Clone my github\n",
        "!git clone https://github.com/GemmaGorey/Dissertation.git\n",
        "\n",
        "# Install librabries\n",
        "print(\"Installing required library versions...\")\n",
        "# Downgrade spaCy and NumPy to be compatible with PyTorch 2.2.2 and its dependencies as conficts with colab\n",
        "!pip install \"spacy<3.8\" \"numpy<2\" -q\n",
        "\n",
        "# Install PyTorch, torchvision, torchaudio, and librosa\n",
        "!pip install torch==2.2.2 torchvision==0.17.2 torchaudio==2.2.2 --index-url https://download.pytorch.org/whl/cu121 -q\n",
        "!pip install librosa -q\n",
        "print(\"Installation complete.\")\n",
        "\n",
        "# verify GPU and restart trigger\n",
        "import torch\n",
        "import os\n",
        "\n",
        "if not torch.cuda.is_available():\n",
        "    print(\"WARNING: GPU IS NOT AVAILABLE. Please go to Runtime > Change runtime type and select T4 GPU.\")\n",
        "else:\n",
        "    print(\"\\n GPU is available. Runtime will now restart to load correct library versions.\")\n",
        "    print(\" After restarting, you can run the rest of your notebook cells.\")\n",
        "    # Colab runtime restart.\n",
        "    os.kill(os.getpid(), 9)"
      ],
      "metadata": {
        "colab": {
          "base_uri": "https://localhost:8080/"
        },
        "id": "xKTq_n_S8czf",
        "outputId": "4e3ea27e-25a4-4ee9-89b4-4ca6ac649dc3"
      },
      "execution_count": null,
      "outputs": [
        {
          "output_type": "stream",
          "name": "stdout",
          "text": [
            "Installing required library versions...\n",
            "\u001b[2K   \u001b[90m━━━━━━━━━━━━━━━━━━━━━━━━━━━━━━━━━━━━━━━━\u001b[0m \u001b[32m6.6/6.6 MB\u001b[0m \u001b[31m91.1 MB/s\u001b[0m eta \u001b[36m0:00:00\u001b[0m\n",
            "\u001b[?25hInstallation complete.\n"
          ]
        }
      ]
    },
    {
      "cell_type": "markdown",
      "source": [
        "**Below is the rest of the script**\n",
        "\n",
        "Start once reconnected (tick on top RHS)\n"
      ],
      "metadata": {
        "id": "N-p9PP5E_Sta"
      }
    },
    {
      "cell_type": "code",
      "source": [],
      "metadata": {
        "id": "11mk6f3mHi25"
      },
      "execution_count": null,
      "outputs": []
    }
  ]
}